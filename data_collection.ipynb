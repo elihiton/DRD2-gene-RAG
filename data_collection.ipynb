{
 "cells": [
  {
   "cell_type": "code",
   "execution_count": null,
   "id": "ac97f464",
   "metadata": {},
   "outputs": [],
   "source": [
    "import requests\n",
    "import os\n",
    "from Bio import Entrez\n",
    "import json\n",
    "import re\n",
    "from tqdm import tqdm"
   ]
  },
  {
   "cell_type": "code",
   "execution_count": null,
   "id": "8478494e",
   "metadata": {},
   "outputs": [],
   "source": [
    "# Set up NCBI access\n",
    "Entrez.email = \"<NCBI-email>\""
   ]
  },
  {
   "cell_type": "code",
   "execution_count": null,
   "id": "ffec2d61",
   "metadata": {},
   "outputs": [],
   "source": [
    "# Search for DRD2 and addiction papers\n",
    "def search_pubmed(query): \n",
    "    handle = Entrez.esearch(db=\"pubmed\", term=query, retmax = 700) #i was finding around 600 hits for my specific query. this could be adjust as needed, retmax defaults to 20 results.\n",
    "    record = Entrez.read(handle)\n",
    "    handle.close()\n",
    "    return record[\"IdList\"]"
   ]
  },
  {
   "cell_type": "code",
   "execution_count": null,
   "id": "27c3f38a",
   "metadata": {},
   "outputs": [],
   "source": [
    "# Search and save results\n",
    "id_list = search_pubmed(\"DRD2 AND (\\\"pharmacogenetics\\\" OR \\\"therapeutic use\\\" OR \\\"adverse effects\\\" OR \\\"drug response\\\" OR \\\"clinical trials\\\")\") \n",
    "#This got 628 hits.\n"
   ]
  },
  {
   "cell_type": "code",
   "execution_count": null,
   "id": "6aa44a11",
   "metadata": {},
   "outputs": [],
   "source": [
    "# Fetch paper metadata and download PDFs where available\n",
    "def fetch_papers(id_list):\n",
    "    papers = []\n",
    "    for pmid in tqdm(id_list, desc = \"Retrieving documents...\"):\n",
    "        # Get paper metadata\n",
    "        handle = Entrez.efetch(db=\"pubmed\", id=pmid, rettype=\"medline\", retmode=\"text\")\n",
    "        record = handle.read()\n",
    "        handle.close()\n",
    "        \n",
    "        stripped = \" \".join(record.split())\n",
    "        \n",
    "        try:\n",
    "            title = re.search('TI - (.+?) [A-Z]+ -', stripped).group(1) #Title is sandwiched between TI - and some string of capital letters\n",
    "        except AttributeError:\n",
    "            # skips abstracts that have no retrievable title\n",
    "            continue\n",
    "        try:\n",
    "            abstract = re.search('AB - (.+?) [A-Z]+ -', stripped).group(1) \n",
    "        except AttributeError:\n",
    "            # skips abstracts that have no retrievable abstract\n",
    "            continue\n",
    "        try:\n",
    "            first_author = re.search('FAU - (.+?) [A-Z]+ -', stripped).group(1) \n",
    "        except AttributeError:\n",
    "            # skips abstracts that have no retrievable author\n",
    "            continue\n",
    "        try:\n",
    "            date_published = re.search('DP - (.+?) [A-Z]+ -', stripped).group(1)\n",
    "        except AttributeError:\n",
    "            # skips abstracts that have no retrievable date\n",
    "            continue\n",
    "        \n",
    "        papers.append({\n",
    "            \"pmid\": pmid,\n",
    "            \"title\": title,\n",
    "            \"abstract\": abstract,\n",
    "            \"first_author\": first_author,\n",
    "            \"date_published\": standardize_month_name(date_published)\n",
    "        })\n",
    "    return papers"
   ]
  },
  {
   "cell_type": "code",
   "execution_count": null,
   "id": "8abfe2ee",
   "metadata": {},
   "outputs": [],
   "source": [
    "papers = fetch_papers(id_list) #takes about 4 minutes"
   ]
  },
  {
   "cell_type": "code",
   "execution_count": null,
   "id": "44fc2acf",
   "metadata": {},
   "outputs": [],
   "source": [
    "# Save the collected data\n",
    "with open('drd2_papers.json', 'w') as f:\n",
    "    json.dump(papers, f)"
   ]
  }
 ],
 "metadata": {
  "kernelspec": {
   "display_name": "Python 3 (ipykernel)",
   "language": "python",
   "name": "python3"
  },
  "language_info": {
   "codemirror_mode": {
    "name": "ipython",
    "version": 3
   },
   "file_extension": ".py",
   "mimetype": "text/x-python",
   "name": "python",
   "nbconvert_exporter": "python",
   "pygments_lexer": "ipython3",
   "version": "3.13.2"
  }
 },
 "nbformat": 4,
 "nbformat_minor": 5
}
