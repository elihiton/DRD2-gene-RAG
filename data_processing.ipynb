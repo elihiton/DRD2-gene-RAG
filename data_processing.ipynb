{
 "cells": [
  {
   "cell_type": "code",
   "execution_count": null,
   "id": "7c775796",
   "metadata": {},
   "outputs": [],
   "source": [
    "import json\n",
    "from nltk.tokenize import sent_tokenize"
   ]
  },
  {
   "cell_type": "code",
   "execution_count": null,
   "id": "c55f8ec7",
   "metadata": {},
   "outputs": [],
   "source": [
    "# Load collected papers\n",
    "with open('drd2_papers.json', 'r') as f:\n",
    "    papers = json.load(f)"
   ]
  },
  {
   "cell_type": "code",
   "execution_count": null,
   "id": "cf852950",
   "metadata": {},
   "outputs": [],
   "source": [
    "def chunk_document(text, chunk_size=1000):\n",
    "    if not text or len(text) < chunk_size:\n",
    "        return [text] if text else []\n",
    "    \n",
    "    sentences = sent_tokenize(text)\n",
    "    chunks = []\n",
    "    current_chunk = \"\"\n",
    "    \n",
    "    for i in range(len(sentences)):\n",
    "        if len(current_chunk) + len(sentences[i]) > chunk_size and current_chunk:\n",
    "            chunks.append(current_chunk)\n",
    "            current_chunk = sentences[i-1] #start the next chunk with the previous sentence for context overlap\n",
    "        \n",
    "        current_chunk += \" \" + sentences[i]\n",
    "    \n",
    "    if current_chunk:\n",
    "        chunks.append(current_chunk)\n",
    "    \n",
    "    return chunks"
   ]
  },
  {
   "cell_type": "code",
   "execution_count": null,
   "id": "8ae83d50",
   "metadata": {},
   "outputs": [],
   "source": [
    "# Process all papers\n",
    "processed_docs = []\n",
    "for paper in papers:\n",
    "    chunks = chunk_document(paper['abstract'])   \n",
    "    for i, chunk in enumerate(chunks):\n",
    "        processed_docs.append({\n",
    "            \"pmid\": paper[\"pmid\"],\n",
    "            \"title\": paper.get(\"title\", \"\"),\n",
    "            \"first_author\": paper.get(\"first_author\"),\n",
    "            \"date_published\": paper.get(\"date_published\"),\n",
    "            \"chunk_id\": f\"{paper['pmid']}-{i}\",\n",
    "            \"text\": chunk\n",
    "        })\n",
    "\n",
    "# Save processed chunks\n",
    "with open('processed_chunks.json', 'w') as f:\n",
    "    json.dump(processed_docs, f)"
   ]
  }
 ],
 "metadata": {
  "kernelspec": {
   "display_name": "Python 3 (ipykernel)",
   "language": "python",
   "name": "python3"
  },
  "language_info": {
   "codemirror_mode": {
    "name": "ipython",
    "version": 3
   },
   "file_extension": ".py",
   "mimetype": "text/x-python",
   "name": "python",
   "nbconvert_exporter": "python",
   "pygments_lexer": "ipython3",
   "version": "3.13.2"
  }
 },
 "nbformat": 4,
 "nbformat_minor": 5
}
